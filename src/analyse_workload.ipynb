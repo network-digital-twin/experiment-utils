{
 "cells": [
  {
   "cell_type": "code",
   "execution_count": 1,
   "metadata": {},
   "outputs": [],
   "source": [
    "import json\n",
    "import numpy as np\n",
    "import networkx as nx\n",
    "import tqdm\n",
    "import os\n",
    "import yaml\n",
    "import pickle\n",
    "\n",
    "path_to_workload = \"/home/lenovo/Downloads/trace_0_FLOW_THROUGHPUT-1250000__SIMULATION_TIME-100000000__PAIRS_PER_SRC-1-0__MSG_SIZE-10000__PACKET_SIZE-1400__BANDWIDTH-1250000__PRIO_LEVELS-3\"\n",
    "path_to_topology = \"/home/lenovo/Documents/GitHub/experiment-utils/src/data/reindexed.json\"\n",
    "subgraph_number = 0\n",
    "\n",
    "\n",
    "# read topo data\n",
    "with open(path_to_topology,'r') as f:\n",
    "    data = json.load(f)\n",
    "\n",
    "# get nodes and egdes\n",
    "nodes, edges = data['nodeList'], data['edgeList']\n",
    "NUM_NODES, NUM_EDGES = len(nodes), len(edges)\n",
    "\n",
    "# creating some usefull maps to get information regarding the nodes\n",
    "try:\n",
    "    new_to_old = {}\n",
    "    for node in nodes:\n",
    "        new_to_old[node['id']] = node['old_id']\n",
    "except KeyError:\n",
    "    print(\"OLD_ID in topology... ingoring new_to_old structure\")\n",
    "\n",
    "id_to_node = {}\n",
    "for node in nodes:\n",
    "    id_to_node[node['id']] = node\n",
    "\n",
    "port_map = {}\n",
    "for node in nodes:\n",
    "    port_map[node['id']] = {}\n",
    "    for port in node['portList']:\n",
    "        port_map[node['id']][port['id']] = port\n"
   ]
  },
  {
   "cell_type": "code",
   "execution_count": 2,
   "metadata": {},
   "outputs": [
    {
     "name": "stdout",
     "output_type": "stream",
     "text": [
      "DiGraph with 8979 nodes and 21082 edges\n"
     ]
    }
   ],
   "source": [
    "g = nx.DiGraph()\n",
    "\n",
    "connection_info = {node['id']: {} for node in nodes}\n",
    "\n",
    "for edge in edges:\n",
    "    src, src_port, dest, dest_port = edge['srcNode'], edge['srcPort'], edge['destNode'], edge['destPort']\n",
    "    src_bw, dest_bw = port_map[src][src_port]['bw'], port_map[dest][dest_port]['bw']\n",
    "    \n",
    "    connection_info[src][dest] = port_map[src][src_port]\n",
    "\n",
    "    g.add_edge(src, dest)\n",
    "\n",
    "print(g)"
   ]
  },
  {
   "cell_type": "code",
   "execution_count": 3,
   "metadata": {},
   "outputs": [
    {
     "name": "stdout",
     "output_type": "stream",
     "text": [
      "DiGraph with 5237 nodes and 12149 edges\n"
     ]
    }
   ],
   "source": [
    "# get the nodes of the subgraphs in the topology\n",
    "subgraphs = list(nx.strongly_connected_components(g))\n",
    "\n",
    "# get the topology of selected subgraph\n",
    "g = g.subgraph(subgraphs[subgraph_number])\n",
    "\n",
    "print(g)"
   ]
  },
  {
   "cell_type": "code",
   "execution_count": 4,
   "metadata": {},
   "outputs": [],
   "source": [
    "flows = {}\n",
    "with open(path_to_workload, 'r') as f:\n",
    "    for line in f:\n",
    "        src, dest = int(line.split(' ')[1]), int(line.split(\" \")[2])\n",
    "\n",
    "        if src in flows.keys():\n",
    "            flows[src].add(dest)\n",
    "        else:\n",
    "            flows[src] = set([dest])"
   ]
  },
  {
   "cell_type": "code",
   "execution_count": 57,
   "metadata": {},
   "outputs": [],
   "source": [
    "partitions = {}\n",
    "\n",
    "''' \n",
    "    IF PARTITIONS ARE IN A FILE PARSE IT HERE\n",
    "    IF THE PARTITIONING IS SIMPLE, IMPLEMENT THE LOGIC IN THE FOR LOOP\n",
    "'''\n",
    "\n",
    "num_partitions = 16\n",
    "\n",
    "for node in nodes:\n",
    "    partitions[node['id']] = node['id'] % num_partitions\n"
   ]
  },
  {
   "cell_type": "code",
   "execution_count": 58,
   "metadata": {},
   "outputs": [],
   "source": [
    "def analyse_flow(route, partitions):\n",
    "    partitions_span = set()\n",
    "    \n",
    "    for node_id in route:\n",
    "        partitions_span.add(partitions[node_id])\n",
    "    \n",
    "    return len(partitions_span)\n"
   ]
  },
  {
   "cell_type": "code",
   "execution_count": 59,
   "metadata": {},
   "outputs": [],
   "source": [
    "results = []\n",
    "for src, flow_set in flows.items():\n",
    "    flow_list = list(flow_set)\n",
    "\n",
    "    for dst in flow_list:\n",
    "        path = nx.shortest_path(g, src, dst)\n",
    "        span = analyse_flow(path, partitions)\n",
    "        \n",
    "        results.append({\n",
    "            \"src\": src,\n",
    "            \"dest\": dst,\n",
    "            \"span\": span\n",
    "        })\n",
    "    "
   ]
  },
  {
   "cell_type": "code",
   "execution_count": 60,
   "metadata": {},
   "outputs": [
    {
     "name": "stdout",
     "output_type": "stream",
     "text": [
      "16 {1: 2, 2: 5, 3: 7, 4: 49, 5: 149, 6: 307, 7: 611, 8: 788, 9: 971, 10: 933, 11: 681, 12: 371, 13: 193, 14: 59, 15: 21, 16: 2}\n"
     ]
    }
   ],
   "source": [
    "spans = [x['span'] for x in results]\n",
    "\n",
    "count_spans = {}\n",
    "for span in spans:\n",
    "    count_spans[span] = count_spans.get(span, 0) + 1\n",
    "\n",
    "count_spans = [(key, value) for key, value in count_spans.items()]\n",
    "count_spans = sorted(count_spans, key=lambda x:x[0])\n",
    "count_spans = {x[0]:x[1] for x in count_spans}\n",
    "\n",
    "print(num_partitions, count_spans)"
   ]
  },
  {
   "cell_type": "markdown",
   "metadata": {},
   "source": [
    "number_partitions   {span: num_flows_with_that_span_in_workload, ...}\n",
    "2   {2: 5132, 1: 17}\n",
    "4   {1: 3, 2: 37, 3: 715, 4: 4394}\n",
    "8   {1: 2, 2: 9, 3: 36, 4: 200, 5: 705, 6: 1487, 7: 1723, 8: 987}\n",
    "16  {1: 2, 2: 5, 3: 7, 4: 49, 5: 149, 6: 307, 7: 611, 8: 788, 9: 971, 10: 933, 11: 681, 12: 371, 13: 193, 14: 59, 15: 21, 16: 2}\n",
    "\n",
    "span: How many partitions a flow spans accross. A flow in the same partition spans 1 partition. if the switches in the flow are part of three partitions then the span is 3 etc...7 \n",
    "Example: for the example with 2 partitions, 5132 flows span accross 2 partions and only 17 are within a partition"
   ]
  }
 ],
 "metadata": {
  "kernelspec": {
   "display_name": "zte",
   "language": "python",
   "name": "python3"
  },
  "language_info": {
   "codemirror_mode": {
    "name": "ipython",
    "version": 3
   },
   "file_extension": ".py",
   "mimetype": "text/x-python",
   "name": "python",
   "nbconvert_exporter": "python",
   "pygments_lexer": "ipython3",
   "version": "3.12.1"
  }
 },
 "nbformat": 4,
 "nbformat_minor": 2
}
