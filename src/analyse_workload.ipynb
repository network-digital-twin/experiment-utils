{
 "cells": [
  {
   "cell_type": "code",
   "execution_count": 147,
   "metadata": {},
   "outputs": [],
   "source": [
    "import json\n",
    "import numpy as np\n",
    "import networkx as nx\n",
    "import tqdm\n",
    "import os\n",
    "import yaml\n",
    "import pickle\n",
    "\n",
    "#path_to_workload = \"/home/lenovo/Downloads/trace_0_FLOW_THROUGHPUT-1250000__SIMULATION_TIME-100000000__PAIRS_PER_SRC-1-0__MSG_SIZE-10000__PACKET_SIZE-1400__BANDWIDTH-1250000__PRIO_LEVELS-3\"\n",
    "path_to_workload = \"/home/lenovo/Downloads/final_workload\"\n",
    "path_to_topology = \"/home/lenovo/Documents/GitHub/experiment-utils/src/data/reindexed.json\"\n",
    "subgraph_number = 0\n",
    "\n",
    "\n",
    "# read topo data\n",
    "with open(path_to_topology,'r') as f:\n",
    "    data = json.load(f)\n",
    "\n",
    "# get nodes and egdes\n",
    "nodes, edges = data['nodeList'], data['edgeList']\n",
    "NUM_NODES, NUM_EDGES = len(nodes), len(edges)\n",
    "\n",
    "# creating some usefull maps to get information regarding the nodes\n",
    "try:\n",
    "    new_to_old = {}\n",
    "    for node in nodes:\n",
    "        new_to_old[node['id']] = node['old_id']\n",
    "except KeyError:\n",
    "    print(\"OLD_ID in topology... ingoring new_to_old structure\")\n",
    "\n",
    "id_to_node = {}\n",
    "for node in nodes:\n",
    "    id_to_node[node['id']] = node\n",
    "\n",
    "port_map = {}\n",
    "for node in nodes:\n",
    "    port_map[node['id']] = {}\n",
    "    for port in node['portList']:\n",
    "        port_map[node['id']][port['id']] = port\n"
   ]
  },
  {
   "cell_type": "code",
   "execution_count": 148,
   "metadata": {},
   "outputs": [
    {
     "name": "stdout",
     "output_type": "stream",
     "text": [
      "DiGraph with 8979 nodes and 21082 edges\n"
     ]
    }
   ],
   "source": [
    "g = nx.DiGraph()\n",
    "\n",
    "connection_info = {node['id']: {} for node in nodes}\n",
    "\n",
    "for edge in edges:\n",
    "    src, src_port, dest, dest_port = edge['srcNode'], edge['srcPort'], edge['destNode'], edge['destPort']\n",
    "    src_bw, dest_bw = port_map[src][src_port]['bw'], port_map[dest][dest_port]['bw']\n",
    "    \n",
    "    connection_info[src][dest] = port_map[src][src_port]\n",
    "\n",
    "    g.add_edge(src, dest)\n",
    "\n",
    "print(g)"
   ]
  },
  {
   "cell_type": "code",
   "execution_count": 149,
   "metadata": {},
   "outputs": [
    {
     "name": "stdout",
     "output_type": "stream",
     "text": [
      "DiGraph with 5237 nodes and 12149 edges\n"
     ]
    }
   ],
   "source": [
    "# get the nodes of the subgraphs in the topology\n",
    "subgraphs = list(nx.strongly_connected_components(g))\n",
    "\n",
    "# get the topology of selected subgraph\n",
    "g = g.subgraph(subgraphs[subgraph_number])\n",
    "\n",
    "print(g)"
   ]
  },
  {
   "cell_type": "code",
   "execution_count": 150,
   "metadata": {},
   "outputs": [],
   "source": [
    "flows = {}\n",
    "with open(path_to_workload, 'r') as f:\n",
    "    for line in f:\n",
    "        src, dest = int(line.split(' ')[1]), int(line.split(\" \")[2])\n",
    "\n",
    "        if src in flows.keys():\n",
    "            flows[src].add(dest)\n",
    "        else:\n",
    "            flows[src] = set([dest])"
   ]
  },
  {
   "cell_type": "code",
   "execution_count": 151,
   "metadata": {},
   "outputs": [],
   "source": [
    "def generate_partitions(num_partitions):\n",
    "    partitions = {}\n",
    "\n",
    "    for node in nodes:\n",
    "        partitions[node['id']] = node['id'] % num_partitions\n",
    "    \n",
    "    return partitions\n"
   ]
  },
  {
   "cell_type": "code",
   "execution_count": 152,
   "metadata": {},
   "outputs": [],
   "source": [
    "def analyse_flow(route, partitions):\n",
    "    partitions_span = set()\n",
    "    \n",
    "    for node_id in route:\n",
    "        partitions_span.add(partitions[node_id])\n",
    "    \n",
    "    return len(partitions_span)\n"
   ]
  },
  {
   "cell_type": "code",
   "execution_count": 153,
   "metadata": {},
   "outputs": [],
   "source": [
    "def analyse_partion(partitions):\n",
    "    results = []\n",
    "    for src, flow_set in flows.items():\n",
    "        flow_list = list(flow_set)\n",
    "\n",
    "        for dst in flow_list:\n",
    "            path = nx.shortest_path(g, src, dst)\n",
    "            span = analyse_flow(path, partitions)\n",
    "            \n",
    "            results.append({\n",
    "                \"src\": src,\n",
    "                \"dest\": dst,\n",
    "                \"span\": span\n",
    "            })\n",
    "    \n",
    "    return results"
   ]
  },
  {
   "cell_type": "code",
   "execution_count": 183,
   "metadata": {},
   "outputs": [],
   "source": [
    "prcnt = lambda val, total : round((val/total) * 100, 2)\n",
    "\n",
    "def process_results(results):\n",
    "    spans = [x['span'] for x in results]\n",
    "\n",
    "    count_spans = {}\n",
    "    for span in spans:\n",
    "        count_spans[span] = count_spans.get(span, 0) + 1\n",
    "\n",
    "    total_flows = sum([x for x in count_spans.values()])\n",
    "\n",
    "    count_spans = [(key, value) for key, value in count_spans.items()]\n",
    "    count_spans = sorted(count_spans, key=lambda x:x[0])\n",
    "    count_spans_sorted = {x[0]:x[1] for x in count_spans}\n",
    "    count_spans_prcnt = {x[0]:prcnt(x[1],total_flows) for x in count_spans}\n",
    "\n",
    "    return count_spans_sorted, count_spans_prcnt, spans\n"
   ]
  },
  {
   "cell_type": "code",
   "execution_count": 195,
   "metadata": {},
   "outputs": [
    {
     "name": "stdout",
     "output_type": "stream",
     "text": [
      "{1: 0.04, 2: 0.02, 3: 0.14, 4: 0.21, 5: 0.89, 6: 2.21, 7: 4.16, 8: 6.02, 9: 9.07, 10: 10.47, 11: 11.44, 12: 11.32, 13: 10.58, 14: 9.05, 15: 7.3, 16: 6.04, 17: 3.81, 18: 2.78, 19: 1.67, 20: 1.38, 21: 0.76, 22: 0.33, 23: 0.19, 24: 0.06, 25: 0.04, 26: 0.02}\n"
     ]
    }
   ],
   "source": [
    "num_partitions = 64\n",
    "partitions = generate_partitions(num_partitions)\n",
    "results = analyse_partion(partitions)\n",
    "normal, prc, spans = process_results(results)\n",
    "print(prc)"
   ]
  },
  {
   "cell_type": "code",
   "execution_count": 196,
   "metadata": {},
   "outputs": [
    {
     "data": {
      "image/png": "[encoded data removed]",
      "text/plain": [
       "<Figure size 500x200 with 1 Axes>"
      ]
     },
     "metadata": {},
     "output_type": "display_data"
    }
   ],
   "source": [
    "import matplotlib.pyplot as plt\n",
    "\n",
    "# Sample data in dictionary format (bins and frequencies)\n",
    "data_dict = prc\n",
    "\n",
    "# Extract bins and frequencies from the dictionary\n",
    "bins = list(data_dict.keys())\n",
    "frequencies = list(data_dict.values())\n",
    "\n",
    "# Create figure and axes objects\n",
    "fig, ax = plt.subplots()\n",
    "fig.set_figwidth(5)\n",
    "fig.set_figheight(2)\n",
    "\n",
    "# Plot the histogram\n",
    "#ax.bar(bins, frequencies, zorder=2)\n",
    "ax.hist(spans, zorder=2)\n",
    "# Customize labels and title\n",
    "ax.set_xlabel('Span (No. partitions)')\n",
    "ax.set_ylabel('Flows')\n",
    "#ax.set_xticks(ticks=range(0,num_partitions))\n",
    "# Show the plot\n",
    "plt.grid(alpha=.5)\n",
    "plt.tight_layout()\n",
    "plt.show()"
   ]
  }
 ],
 "metadata": {
  "kernelspec": {
   "display_name": "zte",
   "language": "python",
   "name": "python3"
  },
  "language_info": {
   "codemirror_mode": {
    "name": "ipython",
    "version": 3
   },
   "file_extension": ".py",
   "mimetype": "text/x-python",
   "name": "python",
   "nbconvert_exporter": "python",
   "pygments_lexer": "ipython3",
   "version": "3.12.1"
  }
 },
 "nbformat": 4,
 "nbformat_minor": 2
}
