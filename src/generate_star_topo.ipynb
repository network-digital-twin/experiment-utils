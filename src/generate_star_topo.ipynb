{
 "cells": [
  {
   "cell_type": "code",
   "execution_count": 1,
   "metadata": {},
   "outputs": [
    {
     "name": "stdout",
     "output_type": "stream",
     "text": [
      "17\n"
     ]
    }
   ],
   "source": [
    "access, core = [], []\n",
    "\n",
    "num_access = 16\n",
    "num_ports_per_switch = 1\n",
    "BANDWIDTH = 5_000_000_000\n",
    "\n",
    "core.append({\n",
    "    \"id\": 0,\n",
    "    \"portList\": [],\n",
    "    \"deviceLevel\": \"Core\",\n",
    "})\n",
    "\n",
    "\n",
    "for id_access in range(1, num_access+1):\n",
    "    access.append({\n",
    "        \"id\": id_access,\n",
    "        \"portList\": [],\n",
    "        \"deviceLevel\": \"Access\",\n",
    "    })\n",
    "\n",
    "nodeList = core + access\n",
    "\n",
    "print(len(nodeList))"
   ]
  },
  {
   "cell_type": "code",
   "execution_count": 2,
   "metadata": {},
   "outputs": [],
   "source": [
    "# add port information to node dict\n",
    "\n",
    "for node in access:\n",
    "    for port_id in range(num_ports_per_switch):\n",
    "        node['portList'].append({\n",
    "            'id': f'port{port_id}',\n",
    "            'bw': BANDWIDTH,\n",
    "        })\n",
    "\n",
    "for port_id in range(num_access):\n",
    "    core[0]['portList'].append({\n",
    "        'id': f'port{port_id}',\n",
    "        'bw': BANDWIDTH,\n",
    "    })\n",
    "         "
   ]
  },
  {
   "cell_type": "code",
   "execution_count": 5,
   "metadata": {},
   "outputs": [
    {
     "data": {
      "text/plain": [
       "32"
      ]
     },
     "execution_count": 5,
     "metadata": {},
     "output_type": "execute_result"
    }
   ],
   "source": [
    "edgeList = []\n",
    "\n",
    "core_node = core[0]\n",
    "\n",
    "for idx, node in enumerate(access):\n",
    "    edge = {\n",
    "        \"srcNode\": node['id'],\n",
    "        \"destNode\": core_node['id'],\n",
    "        \"srcPort\": node['portList'][0]['id'],\n",
    "        \"destPort\": core_node['portList'][idx]['id']\n",
    "    }\n",
    "\n",
    "    reversed = {\n",
    "        \"srcNode\": core_node['id'],\n",
    "        \"destNode\": node['id'],\n",
    "        \"srcPort\": core_node['portList'][idx]['id'],\n",
    "        \"destPort\": node['portList'][0]['id']\n",
    "    }\n",
    "\n",
    "    edgeList.append(edge)\n",
    "    edgeList.append(reversed)\n",
    "\n",
    "len(edgeList)"
   ]
  },
  {
   "cell_type": "code",
   "execution_count": 4,
   "metadata": {},
   "outputs": [],
   "source": [
    "import json\n",
    "\n",
    "with open(f\"data/start_topo{num_access}_{BANDWIDTH}.json\", 'w+') as f:\n",
    "    json.dump(\n",
    "        {'nodeList': nodeList, 'edgeList': edgeList},\n",
    "        f,\n",
    "        indent=4\n",
    "    )"
   ]
  }
 ],
 "metadata": {
  "kernelspec": {
   "display_name": "zte",
   "language": "python",
   "name": "python3"
  },
  "language_info": {
   "codemirror_mode": {
    "name": "ipython",
    "version": 3
   },
   "file_extension": ".py",
   "mimetype": "text/x-python",
   "name": "python",
   "nbconvert_exporter": "python",
   "pygments_lexer": "ipython3",
   "version": "3.12.2"
  }
 },
 "nbformat": 4,
 "nbformat_minor": 2
}
