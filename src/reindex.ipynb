{
 "cells": [
  {
   "cell_type": "code",
   "execution_count": 10,
   "metadata": {},
   "outputs": [],
   "source": [
    "import json\n",
    "import numpy as np\n",
    "import networkx as nx\n",
    "import tqdm\n",
    "\n",
    "# read topo data\n",
    "with open('data/resultData_cleaned_fixed.json','r') as f:\n",
    "    data = json.load(f)\n",
    "\n",
    "# get nodes and egdes\n",
    "nodes, edges = data['nodeList'], data['edgeList']\n",
    "NUM_NODES, NUM_EDGES = len(nodes), len(edges)\n",
    "\n",
    "# creating some usefull maps to get information regarding the nodes\n",
    "new_to_old = {}\n",
    "for node in nodes:\n",
    "    new_to_old[node['id']] = node['old_id']\n",
    "\n",
    "id_to_node = {}\n",
    "for node in nodes:\n",
    "    id_to_node[node['id']] = node\n",
    "\n",
    "port_map = {}\n",
    "for node in nodes:\n",
    "    port_map[node['id']] = {}\n",
    "    for port in node['portList']:\n",
    "        port_map[node['id']][port['id']] = port\n",
    "\n",
    "for edge in edges:\n",
    "    edge['srcOld'] = new_to_old[edge['srcNode']]\n",
    "    edge['destOld'] = new_to_old[edge['destNode']]\n",
    "\n",
    "\n",
    "g = nx.DiGraph()\n",
    "\n",
    "for edge in edges:\n",
    "    source, sport, dest, dport = edge['srcNode'], edge['srcPort'], edge['destNode'], edge['destPort']\n",
    "\n",
    "    sp_bw = port_map[source][sport]['bw']\n",
    "    dp_bw = port_map[dest][dport]['bw']\n",
    "\n",
    "    g.add_edge(source, dest, bw=min(sp_bw, dp_bw))\n"
   ]
  },
  {
   "cell_type": "code",
   "execution_count": 11,
   "metadata": {},
   "outputs": [],
   "source": [
    "# get the nodes of the subgraphs in the topology\n",
    "subgraphs = list(nx.strongly_connected_components(g))\n",
    "\n",
    "ids = list(subgraphs[0]) + list(subgraphs[1]) + list(subgraphs[2])"
   ]
  },
  {
   "cell_type": "code",
   "execution_count": 20,
   "metadata": {},
   "outputs": [
    {
     "data": {
      "text/plain": [
       "60"
      ]
     },
     "execution_count": 20,
     "metadata": {},
     "output_type": "execute_result"
    }
   ],
   "source": [
    "count_loops = 0\n",
    "for edge in edges:\n",
    "    if edge['srcNode'] == edge['destNode'] and edge['srcNode'] in ids:\n",
    "        count_loops += 1\n",
    "        \n",
    "count_loops"
   ]
  },
  {
   "cell_type": "code",
   "execution_count": 8,
   "metadata": {},
   "outputs": [],
   "source": [
    "reindex_map = {}\n",
    "\n",
    "for new_id, old_id in enumerate(ids):\n",
    "    reindex_map[new_to_old[old_id]] = new_id\n",
    "\n",
    "nodes_to_keep = list(reindex_map.keys())\n",
    "\n",
    "new_nodes, new_edges = [], []\n",
    "\n",
    "for node in nodes:\n",
    "    if node['old_id'] in nodes_to_keep:\n",
    "        new_nodes.append(node)\n",
    "\n",
    "\n",
    "for edge in edges:\n",
    "    if edge['srcOld'] in nodes_to_keep and edge['destOld'] in nodes_to_keep:\n",
    "        new_edges.append(edge)\n",
    "\n",
    "\n",
    "from copy import deepcopy\n",
    "\n",
    "nodes, edges = [], []\n",
    "\n",
    "while new_nodes:\n",
    "    node = deepcopy(new_nodes.pop(0))\n",
    "    node['id'] = reindex_map[node['old_id']]\n",
    "    nodes.append(node)\n",
    "\n",
    "while new_edges:\n",
    "    edge = deepcopy(new_edges.pop(0))\n",
    "    edge['destNode'] = reindex_map[edge['destOld']]\n",
    "    edge['srcNode'] = reindex_map[edge['srcOld']]\n",
    "    edges.append(edge)\n",
    "\n",
    "id_to_node = {}\n",
    "for node in nodes:\n",
    "    id_to_node[node['id']] = node\n",
    "\n",
    "port_map = {}\n",
    "for node in nodes:\n",
    "    port_map[node['id']] = {}\n",
    "    for port in node['portList']:\n",
    "        port_map[node['id']][port['id']] = port\n",
    "\n",
    "\n",
    "g = nx.DiGraph()\n",
    "\n",
    "for edge in edges:\n",
    "    source, sport, dest, dport = edge['srcNode'], edge['srcPort'], edge['destNode'], edge['destPort']\n",
    "\n",
    "    sp_bw = port_map[source][sport]['bw']\n",
    "    dp_bw = port_map[dest][dport]['bw']\n",
    "\n",
    "    g.add_edge(source, dest, bw=min(sp_bw, dp_bw))"
   ]
  },
  {
   "cell_type": "code",
   "execution_count": 9,
   "metadata": {},
   "outputs": [
    {
     "data": {
      "text/plain": [
       "56"
      ]
     },
     "execution_count": 9,
     "metadata": {},
     "output_type": "execute_result"
    }
   ],
   "source": [
    "# get the nodes of the subgraphs in the topology\n",
    "subgraphs = list(nx.strongly_connected_components(g))\n",
    "\n",
    "ids = list(subgraphs[0]) + list(subgraphs[1]) + list(subgraphs[2])\n",
    "\n",
    "reindex_map = {}\n",
    "\n",
    "for new_id, old_id in enumerate(ids):\n",
    "    reindex_map[new_to_old[old_id]] = new_id\n",
    "\n",
    "nodes_to_keep = list(reindex_map.keys())\n",
    "\n",
    "new_nodes, new_edges = [], []\n",
    "\n",
    "for node in nodes:\n",
    "    if node['old_id'] in nodes_to_keep:\n",
    "        new_nodes.append(node)\n",
    "\n",
    "\n",
    "for edge in edges:\n",
    "    if edge['srcOld'] in nodes_to_keep and edge['destOld'] in nodes_to_keep:\n",
    "        new_edges.append(edge)\n",
    "\n",
    "\n",
    "from copy import deepcopy\n",
    "\n",
    "nodes, edges = [], []\n",
    "\n",
    "while new_nodes:\n",
    "    node = deepcopy(new_nodes.pop(0))\n",
    "    node['id'] = reindex_map[node['old_id']]\n",
    "    nodes.append(node)\n",
    "\n",
    "while new_edges:\n",
    "    edge = deepcopy(new_edges.pop(0))\n",
    "    edge['destNode'] = reindex_map[edge['destOld']]\n",
    "    edge['srcNode'] = reindex_map[edge['srcOld']]\n",
    "    edges.append(edge)\n",
    "\n",
    "id_to_node = {}\n",
    "for node in nodes:\n",
    "    id_to_node[node['id']] = node\n",
    "\n",
    "port_map = {}\n",
    "for node in nodes:\n",
    "    port_map[node['id']] = {}\n",
    "    for port in node['portList']:\n",
    "        port_map[node['id']][port['id']] = port\n",
    "\n",
    "\n",
    "g = nx.DiGraph()\n",
    "\n",
    "for edge in edges:\n",
    "    source, sport, dest, dport = edge['srcNode'], edge['srcPort'], edge['destNode'], edge['destPort']\n",
    "\n",
    "    sp_bw = port_map[source][sport]['bw']\n",
    "    dp_bw = port_map[dest][dport]['bw']\n",
    "\n",
    "    g.add_edge(source, dest, bw=min(sp_bw, dp_bw))"
   ]
  },
  {
   "cell_type": "code",
   "execution_count": 4,
   "metadata": {},
   "outputs": [],
   "source": [
    "with open(\"data/reindexed.json\", 'w+') as f:\n",
    "    json.dump(\n",
    "        {'nodeList': nodes, 'edgeList': edges},\n",
    "        f,\n",
    "        indent=4\n",
    "    )"
   ]
  }
 ],
 "metadata": {
  "kernelspec": {
   "display_name": "zte",
   "language": "python",
   "name": "python3"
  },
  "language_info": {
   "codemirror_mode": {
    "name": "ipython",
    "version": 3
   },
   "file_extension": ".py",
   "mimetype": "text/x-python",
   "name": "python",
   "nbconvert_exporter": "python",
   "pygments_lexer": "ipython3",
   "version": "3.12.1"
  }
 },
 "nbformat": 4,
 "nbformat_minor": 2
}
