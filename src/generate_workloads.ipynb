{
 "cells": [
  {
   "cell_type": "code",
   "execution_count": 25,
   "metadata": {},
   "outputs": [],
   "source": [
    "import json\n",
    "import os\n",
    "import math\n",
    "import random\n",
    "import numpy as np\n",
    "from tqdm import tqdm\n",
    "\n",
    "\n",
    "routing_name = \"star16\"\n",
    "topology_name = \"start_topo16_100000000000\"\n",
    "\n",
    "B = 12_500_000_000 # BYTES\n",
    "\n",
    "# name of produces workload file\n",
    "out_name = f'traces/trace_{routing_name}'       \n",
    "# path to switch config files for topology                 \n",
    "config_path = os.getcwd() + f'/topologies/{routing_name}/'       \n",
    "# path to file containing topology\n",
    "data_path = f'data/{topology_name}.json'"
   ]
  },
  {
   "cell_type": "code",
   "execution_count": 26,
   "metadata": {},
   "outputs": [
    {
     "name": "stdout",
     "output_type": "stream",
     "text": [
      "num src: 16 || num dests: 1\n"
     ]
    }
   ],
   "source": [
    "configs = os.listdir(config_path)\n",
    "\n",
    "with open(data_path,'r') as f:\n",
    "    data = json.load(f)\n",
    "\n",
    "nodes = {}\n",
    "for node in data['nodeList']:\n",
    "    nodes[node['id']] = node\n",
    "\n",
    "sources = [] # access\n",
    "destinations = [] # kernel or mixed \n",
    "\n",
    "for config in configs:\n",
    "    id = int(config.split('.')[0])\n",
    "    \n",
    "    if nodes[id]['deviceLevel'] == \"Access\":\n",
    "        sources.append(id)\n",
    "    else:\n",
    "        destinations.append(id) \n",
    "\n",
    "print(\"num src:\",len(sources), \"|| num dests:\",len(destinations))"
   ]
  },
  {
   "cell_type": "code",
   "execution_count": 41,
   "metadata": {},
   "outputs": [],
   "source": [
    "FLOW_THROUGHPUT = B                     # BYTES PER SECOND\n",
    "SIMULATION_TIME = 100_000_000               # Ns\n",
    "PAIRS_PER_SRC = {'mu': 1, 'sigma': 0}   # NORMAL DIST\n",
    "MSG_SIZE = 50_000                       # BYTES\n",
    "PACKET_SIZE = 1400                      # BYTES\n",
    "BANDWIDTH = 12_500_000_000                  # BYTES\n",
    "PRIO_LEVELS = 3                         # QOS PRIORITIES\n",
    "\n",
    "s_to_ns = lambda x : int(x * math.pow(10,9))\n",
    "ns_to_s = lambda x : x * math.pow(10,-9)"
   ]
  },
  {
   "cell_type": "code",
   "execution_count": 35,
   "metadata": {},
   "outputs": [
    {
     "name": "stdout",
     "output_type": "stream",
     "text": [
      "FLOW_THROUGHPUT_12500000000__SIMULATION_TIME_1000000000__MSG_SIZE_50000__PACKET_SIZE_1400__BANDWIDTH_12500000000__PRIO_LEVELS_3\n"
     ]
    }
   ],
   "source": [
    "parameters = (f\"FLOW_THROUGHPUT_{FLOW_THROUGHPUT}__\"\n",
    "          f\"SIMULATION_TIME_{SIMULATION_TIME}__\"\n",
    "          #f\"PAIRS_PER_SRC_{tuple(PAIRS_PER_SRC.values())}__\"\n",
    "          f\"MSG_SIZE_{MSG_SIZE}__\"\n",
    "          f\"PACKET_SIZE_{PACKET_SIZE}__\"\n",
    "          f\"BANDWIDTH_{BANDWIDTH}__\"\n",
    "          f\"PRIO_LEVELS_{PRIO_LEVELS}\")\n",
    "\n",
    "print(parameters)"
   ]
  },
  {
   "cell_type": "code",
   "execution_count": 36,
   "metadata": {},
   "outputs": [],
   "source": [
    "# generate flows\n",
    "def generate_flows():\n",
    "    flows = {}\n",
    "    for src in sources:\n",
    "        num_pairs = int(random.normalvariate(**PAIRS_PER_SRC))\n",
    "        while num_pairs <= 0:\n",
    "            num_pairs = int(random.normalvariate(**PAIRS_PER_SRC))\n",
    "        \n",
    "        flows[src] = random.sample(destinations, k=num_pairs)\n",
    "        \n",
    "    return flows\n",
    "\n",
    "flows = generate_flows()"
   ]
  },
  {
   "cell_type": "code",
   "execution_count": 37,
   "metadata": {},
   "outputs": [],
   "source": [
    "def generate_messages_for_flow(duration_ns):\n",
    "    total_bytes_for_duration = ns_to_s(duration_ns) * FLOW_THROUGHPUT\n",
    "\n",
    "    sizes = []\n",
    "\n",
    "    # generate message sizes using poisson distribution\n",
    "    while sum(sizes) < total_bytes_for_duration:\n",
    "        sizes.append(int(random.expovariate(1/MSG_SIZE)))\n",
    "    \n",
    "    # distribute the message send times uniformly over the simulation time\n",
    "    times = np.linspace(0, duration_ns, len(sizes))\n",
    "    times = [int(x) for x in times]\n",
    "\n",
    "    return times, sizes"
   ]
  },
  {
   "cell_type": "code",
   "execution_count": 42,
   "metadata": {},
   "outputs": [
    {
     "name": "stderr",
     "output_type": "stream",
     "text": [
      "  6%|██▊                                         | 1/16 [00:00<00:14,  1.05it/s]"
     ]
    },
    {
     "name": "stdout",
     "output_type": "stream",
     "text": [
      "\n"
     ]
    },
    {
     "name": "stderr",
     "output_type": "stream",
     "text": [
      "\r",
      " 12%|█████▌                                      | 2/16 [00:01<00:13,  1.02it/s]"
     ]
    },
    {
     "name": "stdout",
     "output_type": "stream",
     "text": [
      "\n"
     ]
    },
    {
     "name": "stderr",
     "output_type": "stream",
     "text": [
      "\r",
      " 19%|████████▎                                   | 3/16 [00:02<00:12,  1.05it/s]"
     ]
    },
    {
     "name": "stdout",
     "output_type": "stream",
     "text": [
      "\n"
     ]
    },
    {
     "name": "stderr",
     "output_type": "stream",
     "text": [
      "\r",
      " 25%|███████████                                 | 4/16 [00:03<00:11,  1.06it/s]"
     ]
    },
    {
     "name": "stdout",
     "output_type": "stream",
     "text": [
      "\n"
     ]
    },
    {
     "name": "stderr",
     "output_type": "stream",
     "text": [
      "\r",
      " 31%|█████████████▊                              | 5/16 [00:04<00:10,  1.07it/s]"
     ]
    },
    {
     "name": "stdout",
     "output_type": "stream",
     "text": [
      "\n"
     ]
    },
    {
     "name": "stderr",
     "output_type": "stream",
     "text": [
      "\r",
      " 38%|████████████████▌                           | 6/16 [00:05<00:09,  1.08it/s]"
     ]
    },
    {
     "name": "stdout",
     "output_type": "stream",
     "text": [
      "\n"
     ]
    },
    {
     "name": "stderr",
     "output_type": "stream",
     "text": [
      "\r",
      " 44%|███████████████████▎                        | 7/16 [00:06<00:08,  1.08it/s]"
     ]
    },
    {
     "name": "stdout",
     "output_type": "stream",
     "text": [
      "\n"
     ]
    },
    {
     "name": "stderr",
     "output_type": "stream",
     "text": [
      "\r",
      " 50%|██████████████████████                      | 8/16 [00:07<00:07,  1.08it/s]"
     ]
    },
    {
     "name": "stdout",
     "output_type": "stream",
     "text": [
      "\n"
     ]
    },
    {
     "name": "stderr",
     "output_type": "stream",
     "text": [
      "\r",
      " 56%|████████████████████████▊                   | 9/16 [00:08<00:06,  1.07it/s]"
     ]
    },
    {
     "name": "stdout",
     "output_type": "stream",
     "text": [
      "\n"
     ]
    },
    {
     "name": "stderr",
     "output_type": "stream",
     "text": [
      "\r",
      " 62%|██████████████████████████▉                | 10/16 [00:09<00:05,  1.08it/s]"
     ]
    },
    {
     "name": "stdout",
     "output_type": "stream",
     "text": [
      "\n"
     ]
    },
    {
     "name": "stderr",
     "output_type": "stream",
     "text": [
      "\r",
      " 69%|█████████████████████████████▌             | 11/16 [00:10<00:04,  1.07it/s]"
     ]
    },
    {
     "name": "stdout",
     "output_type": "stream",
     "text": [
      "\n"
     ]
    },
    {
     "name": "stderr",
     "output_type": "stream",
     "text": [
      "\r",
      " 75%|████████████████████████████████▎          | 12/16 [00:11<00:03,  1.08it/s]"
     ]
    },
    {
     "name": "stdout",
     "output_type": "stream",
     "text": [
      "\n"
     ]
    },
    {
     "name": "stderr",
     "output_type": "stream",
     "text": [
      "\r",
      " 81%|██████████████████████████████████▉        | 13/16 [00:12<00:02,  1.07it/s]"
     ]
    },
    {
     "name": "stdout",
     "output_type": "stream",
     "text": [
      "\n"
     ]
    },
    {
     "name": "stderr",
     "output_type": "stream",
     "text": [
      "\r",
      " 88%|█████████████████████████████████████▋     | 14/16 [00:13<00:01,  1.07it/s]"
     ]
    },
    {
     "name": "stdout",
     "output_type": "stream",
     "text": [
      "\n"
     ]
    },
    {
     "name": "stderr",
     "output_type": "stream",
     "text": [
      "\r",
      " 94%|████████████████████████████████████████▎  | 15/16 [00:14<00:00,  1.08it/s]"
     ]
    },
    {
     "name": "stdout",
     "output_type": "stream",
     "text": [
      "\n"
     ]
    },
    {
     "name": "stderr",
     "output_type": "stream",
     "text": [
      "100%|███████████████████████████████████████████| 16/16 [00:14<00:00,  1.07it/s]"
     ]
    },
    {
     "name": "stdout",
     "output_type": "stream",
     "text": [
      "\n"
     ]
    },
    {
     "name": "stderr",
     "output_type": "stream",
     "text": [
      "\n"
     ]
    }
   ],
   "source": [
    "'''\n",
    "    Generation Logic:\n",
    "        - For each source - while the current message time is less than the simulation time\n",
    "            - pick the next message time (exp dist)\n",
    "            - pick a random dest (uniform)\n",
    "            - pick a random message (size)\n",
    "            - split the message into packets based on packets size\n",
    "            - add packets accumulating transmission time (terminal -> switch)\n",
    "'''\n",
    "\n",
    "message_id = 0\n",
    "messages = []\n",
    "for src, pairs in tqdm(flows.items()):\n",
    "     for dst in pairs:\n",
    "        flow_messages = generate_messages_for_flow(SIMULATION_TIME)\n",
    "\n",
    "        for time, size in zip(*flow_messages):\n",
    "            tos = random.randint(0, PRIO_LEVELS-1)\n",
    "\n",
    "            messages.append({\n",
    "                'message_id': message_id,\n",
    "                'src': src,\n",
    "                'dst': dst,\n",
    "                'size': size,\n",
    "                'timestamp':time,\n",
    "                'tos': tos\n",
    "            })\n",
    "        print(\"\")\n",
    "        message_id += 1\n",
    "\n",
    "messages = sorted(messages, key=lambda x:x['timestamp'])"
   ]
  },
  {
   "cell_type": "code",
   "execution_count": 44,
   "metadata": {},
   "outputs": [
    {
     "data": {
      "text/plain": [
       "399073"
      ]
     },
     "execution_count": 44,
     "metadata": {},
     "output_type": "execute_result"
    }
   ],
   "source": [
    "len(messages)"
   ]
  },
  {
   "cell_type": "code",
   "execution_count": 45,
   "metadata": {},
   "outputs": [
    {
     "name": "stderr",
     "output_type": "stream",
     "text": [
      "100%|████████████████████████████████| 399073/399073 [00:12<00:00, 32347.92it/s]"
     ]
    },
    {
     "name": "stdout",
     "output_type": "stream",
     "text": [
      "14486905\n"
     ]
    },
    {
     "name": "stderr",
     "output_type": "stream",
     "text": [
      "\n"
     ]
    }
   ],
   "source": [
    "unique_packet_id = 0\n",
    "\n",
    "i = 0\n",
    "f =  open(out_name + \"workload\", 'w')\n",
    "\n",
    "for msg in tqdm(messages):\n",
    "    message_id, src, dst, size, timestamp, tos = msg.values()\n",
    "\n",
    "    num_packets = math.ceil(size / PACKET_SIZE) # ceil -> padding last packet to always be PACKET_SIZE\n",
    "    \n",
    "    packet_time = timestamp\n",
    "    packets = []\n",
    "    for _ in range(num_packets):\n",
    "        packet_info = (\n",
    "            f\"{str(unique_packet_id)} \"\n",
    "            f\"{str(message_id)} \"\n",
    "            f\"{str(src)} \"\n",
    "            f\"{str(dst)} \"\n",
    "            f\"{str(PACKET_SIZE)} \"\n",
    "            f\"{str(packet_time)} \"\n",
    "            f\"{str(tos)}\\n\"\n",
    "        )\n",
    "\n",
    "        f.write(packet_info)\n",
    "        i = i+1\n",
    "        packet_time += PACKET_SIZE / BANDWIDTH\n",
    "\n",
    "        unique_packet_id += 1 \n",
    "\n",
    "f.close()\n",
    "print(i)\n",
    "    "
   ]
  },
  {
   "cell_type": "code",
   "execution_count": null,
   "metadata": {},
   "outputs": [],
   "source": []
  }
 ],
 "metadata": {
  "kernelspec": {
   "display_name": "Python 3 (ipykernel)",
   "language": "python",
   "name": "python3"
  },
  "language_info": {
   "codemirror_mode": {
    "name": "ipython",
    "version": 3
   },
   "file_extension": ".py",
   "mimetype": "text/x-python",
   "name": "python",
   "nbconvert_exporter": "python",
   "pygments_lexer": "ipython3",
   "version": "3.11.7"
  }
 },
 "nbformat": 4,
 "nbformat_minor": 2
}
