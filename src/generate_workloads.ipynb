{
 "cells": [
  {
   "cell_type": "code",
   "execution_count": 31,
   "metadata": {},
   "outputs": [
    {
     "name": "stdout",
     "output_type": "stream",
     "text": [
      "src: 1670 \n",
      "dst: 33\n"
     ]
    }
   ],
   "source": [
    "import yaml\n",
    "import json\n",
    "import os\n",
    "import math\n",
    "\n",
    "path = os.getcwd() + '/topologies/second_subgraph/'\n",
    "configs = os.listdir(path)\n",
    "\n",
    "with open('data/resultData_fixed_ids.json','r') as f:\n",
    "    data = json.load(f)\n",
    "\n",
    "nodes = {}\n",
    "for node in data['nodeList']:\n",
    "    nodes[node['id']] = node\n",
    "\n",
    "sources = [] # access\n",
    "destinations = [] # kernel or mixed \n",
    "\n",
    "for config in configs:\n",
    "    id = int(config.split('.')[0])\n",
    "\n",
    "    if nodes[id]['deviceLevel'] == 'Access':\n",
    "        sources.append(id)\n",
    "    else:\n",
    "        destinations.append(id) \n",
    "\n",
    "print(\"src:\",len(sources), \"\\ndst:\",len(destinations))"
   ]
  },
  {
   "cell_type": "code",
   "execution_count": 32,
   "metadata": {},
   "outputs": [],
   "source": [
    "SIMULATION_TIME = 100                   # (seconds)\n",
    "PAIRS_PER_SRC = {'mu': 3, 'sigma': 1}   # (seconds)\n",
    "MSG_FREQUENCY = 2                       # exponential dist (seconds)\n",
    "MSG_SIZE = 20_000                       # (bytes)\n",
    "PACKET_SIZE = 1400                      # (bytes)\n",
    "BANDWIDTH = 10_000_000                  # (bytes)\n",
    "PRIO_LEVELS = 3                         # Possible message priorities for QoS"
   ]
  },
  {
   "cell_type": "code",
   "execution_count": 33,
   "metadata": {},
   "outputs": [],
   "source": [
    "import random\n",
    "\n",
    "connections = {}\n",
    "for src in sources:\n",
    "    num_pairs = int(random.normalvariate(**PAIRS_PER_SRC))\n",
    "    while num_pairs <= 0:\n",
    "        num_pairs = int(random.normalvariate(**PAIRS_PER_SRC))\n",
    "        \n",
    "    connections[src] = random.sample(sources, k=num_pairs)\n"
   ]
  },
  {
   "cell_type": "code",
   "execution_count": 34,
   "metadata": {},
   "outputs": [],
   "source": [
    "'''\n",
    "    Generation Logic:\n",
    "        - For each source - while the current message time is less than the simulation time\n",
    "            - pick the next message time (exp dist)\n",
    "            - pick a random dest (uniform)\n",
    "            - pick a random message (size)\n",
    "            - split the message into packets based on packets size\n",
    "            - add packets accumulating transmission time (terminal -> switch)\n",
    "'''\n",
    "\n",
    "packets = []\n",
    "unique_packet_id = 0\n",
    "message_id = 0\n",
    "for src, pairs in connections.items():\n",
    "    current_time = random.expovariate(1/MSG_FREQUENCY)\n",
    "    while current_time <= SIMULATION_TIME:\n",
    "        dst = random.choice(pairs)\n",
    "        message_size = random.expovariate(1/MSG_SIZE)\n",
    "        \n",
    "        num_packets = math.ceil(message_size / PACKET_SIZE) # ceil -> padding last packet to always be PACKET_SIZE\n",
    "        \n",
    "        packet_time = current_time\n",
    "        for _ in range(num_packets):\n",
    "            packets.append(\n",
    "                {   \n",
    "                    'unique_id': unique_packet_id,\n",
    "                    'message_id': message_id,\n",
    "                    'src': src,\n",
    "                    'dst': dst,\n",
    "                    'size': PACKET_SIZE,\n",
    "                    'timestamp': packet_time\n",
    "                }\n",
    "            )\n",
    "            packet_time += PACKET_SIZE / BANDWIDTH\n",
    "            unique_packet_id += 1\n",
    "  \n",
    "        current_time += random.expovariate(1/MSG_FREQUENCY)\n",
    "        message_id += 1\n",
    "    "
   ]
  },
  {
   "cell_type": "code",
   "execution_count": 35,
   "metadata": {},
   "outputs": [],
   "source": [
    "with open(\"trace_second_SG.txt\", 'w+') as f:\n",
    "    for packet in packets:\n",
    "        packet_info = f\"{str(packet['unique_id'])} {packet['message_id']} {str(packet['src'])} {str(packet['dst'])} {str(packet['size'])} {str(packet['timestamp'])}\\n\"\n",
    "        f.write(packet_info)\n"
   ]
  }
 ],
 "metadata": {
  "kernelspec": {
   "display_name": "p11",
   "language": "python",
   "name": "python3"
  },
  "language_info": {
   "codemirror_mode": {
    "name": "ipython",
    "version": 3
   },
   "file_extension": ".py",
   "mimetype": "text/x-python",
   "name": "python",
   "nbconvert_exporter": "python",
   "pygments_lexer": "ipython3",
   "version": "3.12.1"
  }
 },
 "nbformat": 4,
 "nbformat_minor": 2
}
