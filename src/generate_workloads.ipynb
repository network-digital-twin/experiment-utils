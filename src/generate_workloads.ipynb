{
 "cells": [
  {
   "cell_type": "code",
   "execution_count": null,
   "metadata": {},
   "outputs": [],
   "source": [
    "import yaml\n",
    "import json\n",
    "import os\n",
    "\n",
    "path = os.getcwd() + '/topologies/second_subgraph/'\n",
    "configs = os.listdir(path)\n",
    "\n",
    "with open('data/resultData_fixed_ids.json','r') as f:\n",
    "    data = json.load(f)\n",
    "\n",
    "nodes = {}\n",
    "for node in data['nodeList']:\n",
    "    nodes[node['id']] = node\n",
    "\n",
    "sources = [] # access\n",
    "destinations = [] # kernel or mixed \n",
    "\n",
    "for config in configs:\n",
    "    id = int(config.split('.')[0])\n",
    "\n",
    "    if nodes[id]['deviceLevel'] == 'Access':\n",
    "        sources.append(id)\n",
    "    else:\n",
    "        destinations.append(id) \n",
    "\n",
    "print(\"src:\",len(sources), \"\\ndst:\",len(destinations))"
   ]
  },
  {
   "cell_type": "code",
   "execution_count": null,
   "metadata": {},
   "outputs": [],
   "source": [
    "SIMULATION_TIME = 600   # (seconds)\n",
    "PAIRS_PER_SRC = {'mu': 3, 'sigma': 1}  # (seconds)\n",
    "MSG_FREQUENCY = 2       # exponential dist (seconds)\n",
    "MSG_SIZE = 20_000      # (bytes)\n",
    "PACKET_SIZE = 1400      # (bytes)"
   ]
  },
  {
   "cell_type": "code",
   "execution_count": null,
   "metadata": {},
   "outputs": [],
   "source": [
    "import random\n",
    "\n",
    "connections = {}\n",
    "for src in sources:\n",
    "    num_pairs = int(random.normalvariate(**PAIRS_PER_SRC))\n",
    "    while num_pairs <= 0:\n",
    "        num_pairs = int(random.normalvariate(**PAIRS_PER_SRC))\n",
    "        \n",
    "    connections[src] = random.sample(sources, k=num_pairs)\n"
   ]
  },
  {
   "cell_type": "code",
   "execution_count": 218,
   "metadata": {},
   "outputs": [],
   "source": [
    "'''\n",
    "    Generation Logic:\n",
    "        - For each source - while the current message time is less than the simulation time\n",
    "            - pick the next message time (exp dist)\n",
    "            - pick a random dest (uniform)\n",
    "            - pick a random message (size)\n",
    "            - split the message into packets based on packets size\n",
    "'''\n",
    "\n",
    "packets = []\n",
    "unique_packet_id = 0\n",
    "for src, pairs in connections.items():\n",
    "    current_time = random.expovariate(1/MSG_FREQUENCY)\n",
    "    while current_time <= SIMULATION_TIME:\n",
    "        dst = random.choice(pairs)\n",
    "        message_size = random.expovariate(1/MSG_SIZE)\n",
    "        \n",
    "        num_full_packets = int(message_size // PACKET_SIZE)\n",
    "        last_packet_size = message_size % PACKET_SIZE\n",
    "\n",
    "        for _ in range(num_full_packets):\n",
    "            packets.append(\n",
    "                {   \n",
    "                    'unique_id': unique_packet_id,\n",
    "                    'src': src,\n",
    "                    'dst': dst,\n",
    "                    'size': PACKET_SIZE,\n",
    "                    'timestamp': current_time\n",
    "                }\n",
    "            )\n",
    "            unique_packet_id += 1\n",
    "\n",
    "        if last_packet_size > 0:\n",
    "            packets.append(\n",
    "                {\n",
    "                    'unique_id': unique_packet_id,\n",
    "                    'src': src,\n",
    "                    'dst': dst,\n",
    "                    'size': last_packet_size,\n",
    "                    'timestamp': current_time\n",
    "                }\n",
    "            )\n",
    "            unique_packet_id += 1\n",
    "\n",
    "        # print(\"sum of packets:\", num_full_packets * PACKET_SIZE + last_packet_size,\n",
    "        #        \"message size:\", message_size,\n",
    "        #        \"EQ? =\", num_full_packets * PACKET_SIZE + last_packet_size == message_size)\n",
    "  \n",
    "        current_time += random.expovariate(1/MSG_FREQUENCY)\n",
    "    "
   ]
  },
  {
   "cell_type": "code",
   "execution_count": 226,
   "metadata": {},
   "outputs": [
    {
     "ename": "KeyError",
     "evalue": "'src'",
     "output_type": "error",
     "traceback": [
      "\u001b[0;31m---------------------------------------------------------------------------\u001b[0m",
      "\u001b[0;31mKeyError\u001b[0m                                  Traceback (most recent call last)",
      "Cell \u001b[0;32mIn[226], line 3\u001b[0m\n\u001b[1;32m      1\u001b[0m \u001b[38;5;28;01mwith\u001b[39;00m \u001b[38;5;28mopen\u001b[39m(\u001b[38;5;124m\"\u001b[39m\u001b[38;5;124mtrace_second_SG.txt\u001b[39m\u001b[38;5;124m\"\u001b[39m, \u001b[38;5;124m'\u001b[39m\u001b[38;5;124mw+\u001b[39m\u001b[38;5;124m'\u001b[39m) \u001b[38;5;28;01mas\u001b[39;00m f:\n\u001b[1;32m      2\u001b[0m     \u001b[38;5;28;01mfor\u001b[39;00m packet \u001b[38;5;129;01min\u001b[39;00m packets:\n\u001b[0;32m----> 3\u001b[0m         packet_info \u001b[38;5;241m=\u001b[39m \u001b[38;5;124mf\u001b[39m\u001b[38;5;124m\"\u001b[39m\u001b[38;5;132;01m{\u001b[39;00m\u001b[38;5;28mstr\u001b[39m(packet[\u001b[38;5;124m'\u001b[39m\u001b[38;5;124munique_id\u001b[39m\u001b[38;5;124m'\u001b[39m])\u001b[38;5;132;01m}\u001b[39;00m\u001b[38;5;124m \u001b[39m\u001b[38;5;132;01m{\u001b[39;00m\u001b[38;5;28mstr\u001b[39m(\u001b[43mpacket\u001b[49m\u001b[43m[\u001b[49m\u001b[38;5;124;43m'\u001b[39;49m\u001b[38;5;124;43msrc\u001b[39;49m\u001b[38;5;124;43m'\u001b[39;49m\u001b[43m]\u001b[49m)\u001b[38;5;132;01m}\u001b[39;00m\u001b[38;5;124m \u001b[39m\u001b[38;5;132;01m{\u001b[39;00m\u001b[38;5;28mstr\u001b[39m(packet[\u001b[38;5;124m'\u001b[39m\u001b[38;5;124mdst\u001b[39m\u001b[38;5;124m'\u001b[39m])\u001b[38;5;132;01m}\u001b[39;00m\u001b[38;5;124m \u001b[39m\u001b[38;5;132;01m{\u001b[39;00m\u001b[38;5;28mstr\u001b[39m(packet[\u001b[38;5;124m'\u001b[39m\u001b[38;5;124msize\u001b[39m\u001b[38;5;124m'\u001b[39m])\u001b[38;5;132;01m}\u001b[39;00m\u001b[38;5;124m \u001b[39m\u001b[38;5;132;01m{\u001b[39;00m\u001b[38;5;28mstr\u001b[39m(packet[\u001b[38;5;124m'\u001b[39m\u001b[38;5;124mtimestamp\u001b[39m\u001b[38;5;124m'\u001b[39m])\u001b[38;5;132;01m}\u001b[39;00m\u001b[38;5;130;01m\\n\u001b[39;00m\u001b[38;5;124m\"\u001b[39m\n\u001b[1;32m      4\u001b[0m         f\u001b[38;5;241m.\u001b[39mwrite(packet_info)\n",
      "\u001b[0;31mKeyError\u001b[0m: 'src'"
     ]
    }
   ],
   "source": [
    "with open(\"trace_second_SG.txt\", 'w+') as f:\n",
    "    for packet in packets:\n",
    "        packet_info = f\"{str(packet['unique_id'])} {str(packet['src'])} {str(packet['dst'])} {str(packet['size'])} {str(packet['timestamp'])}\\n\"\n",
    "        f.write(packet_info)\n"
   ]
  }
 ],
 "metadata": {
  "kernelspec": {
   "display_name": "p11",
   "language": "python",
   "name": "python3"
  },
  "language_info": {
   "codemirror_mode": {
    "name": "ipython",
    "version": 3
   },
   "file_extension": ".py",
   "mimetype": "text/x-python",
   "name": "python",
   "nbconvert_exporter": "python",
   "pygments_lexer": "ipython3",
   "version": "3.11.0"
  }
 },
 "nbformat": 4,
 "nbformat_minor": 2
}
