{
 "cells": [
  {
   "cell_type": "code",
   "execution_count": 3,
   "metadata": {},
   "outputs": [],
   "source": [
    "import json\n",
    "import networkx as nx\n",
    "\n",
    "# read topo data\n",
    "with open('data/start_topo16_5000000000.json','r') as f:\n",
    "    data = json.load(f)\n",
    "\n",
    "# get nodes and egdes\n",
    "nodes, edges = data['nodeList'], data['edgeList']\n",
    "NUM_NODES, NUM_EDGES = len(nodes), len(edges)\n",
    "\n",
    "id_to_node = {}\n",
    "for node in nodes:\n",
    "    id_to_node[node['id']] = node"
   ]
  },
  {
   "cell_type": "code",
   "execution_count": 4,
   "metadata": {},
   "outputs": [
    {
     "name": "stdout",
     "output_type": "stream",
     "text": [
      "DiGraph with 17 nodes and 32 edges\n"
     ]
    }
   ],
   "source": [
    "G = nx.DiGraph() \n",
    "\n",
    "for edge in edges:\n",
    "    G.add_edge(edge['srcNode'], edge['destNode'])\n",
    "\n",
    "print(G)"
   ]
  },
  {
   "cell_type": "code",
   "execution_count": 5,
   "metadata": {},
   "outputs": [
    {
     "ename": "ModuleNotFoundError",
     "evalue": "No module named 'pygraphviz'",
     "output_type": "error",
     "traceback": [
      "\u001b[1;31m---------------------------------------------------------------------------\u001b[0m",
      "\u001b[1;31mModuleNotFoundError\u001b[0m                       Traceback (most recent call last)",
      "Cell \u001b[1;32mIn[5], line 1\u001b[0m\n\u001b[1;32m----> 1\u001b[0m \u001b[38;5;28;01mimport\u001b[39;00m \u001b[38;5;21;01mpygraphviz\u001b[39;00m \u001b[38;5;28;01mas\u001b[39;00m \u001b[38;5;21;01mgv\u001b[39;00m\n\u001b[0;32m      3\u001b[0m trial \u001b[38;5;241m=\u001b[39m gv\u001b[38;5;241m.\u001b[39mAGraph(strict\u001b[38;5;241m=\u001b[39m\u001b[38;5;28;01mTrue\u001b[39;00m, overlap\u001b[38;5;241m=\u001b[39m\u001b[38;5;28;01mFalse\u001b[39;00m, splines\u001b[38;5;241m=\u001b[39m\u001b[38;5;124m'\u001b[39m\u001b[38;5;124mspline\u001b[39m\u001b[38;5;124m'\u001b[39m, levels\u001b[38;5;241m=\u001b[39m\u001b[38;5;241m3\u001b[39m)\n\u001b[0;32m      5\u001b[0m \u001b[38;5;28;01mfor\u001b[39;00m node \u001b[38;5;129;01min\u001b[39;00m G:\n",
      "\u001b[1;31mModuleNotFoundError\u001b[0m: No module named 'pygraphviz'"
     ]
    }
   ],
   "source": [
    "import pygraphviz as gv\n",
    "\n",
    "trial = gv.AGraph(strict=True, overlap=False, splines='spline', levels=3)\n",
    "\n",
    "for node in G:\n",
    "    info = id_to_node[node]\n",
    "    if info['deviceLevel'] == 'access':\n",
    "        trial.add_node(node, shape='point', color='green')\n",
    "    elif info['deviceLevel'] == 'aggregation':\n",
    "        trial.add_node(node, shape='point', color='blue')\n",
    "    else:\n",
    "        trial.add_node(node, shape='point', color='red')\n",
    "\n",
    "for edge in G.edges():\n",
    "    if (str(edge[0]) in trial.nodes() and str(edge[1]) in trial.nodes()) and edge[0] != edge[1]:\n",
    "        trial.add_edge(*edge, penwidth=.2)\n",
    "\n",
    "trial.layout('sfdp')\n",
    "trial.draw('test.pdf')"
   ]
  }
 ],
 "metadata": {
  "kernelspec": {
   "display_name": "zte",
   "language": "python",
   "name": "python3"
  },
  "language_info": {
   "codemirror_mode": {
    "name": "ipython",
    "version": 3
   },
   "file_extension": ".py",
   "mimetype": "text/x-python",
   "name": "python",
   "nbconvert_exporter": "python",
   "pygments_lexer": "ipython3",
   "version": "3.12.2"
  }
 },
 "nbformat": 4,
 "nbformat_minor": 2
}
