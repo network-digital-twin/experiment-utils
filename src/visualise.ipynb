{
 "cells": [
  {
   "cell_type": "code",
   "execution_count": 45,
   "metadata": {},
   "outputs": [],
   "source": [
    "import json\n",
    "import networkx as nx\n",
    "\n",
    "# read topo data\n",
    "with open('data/fat_tree.json','r') as f:\n",
    "    data = json.load(f)\n",
    "\n",
    "# get nodes and egdes\n",
    "nodes, edges = data['nodeList'], data['edgeList']\n",
    "NUM_NODES, NUM_EDGES = len(nodes), len(edges)\n",
    "\n",
    "id_to_node = {}\n",
    "for node in nodes:\n",
    "    id_to_node[node['id']] = node"
   ]
  },
  {
   "cell_type": "code",
   "execution_count": 44,
   "metadata": {},
   "outputs": [
    {
     "name": "stdout",
     "output_type": "stream",
     "text": [
      "DiGraph with 80 nodes and 256 edges\n"
     ]
    }
   ],
   "source": [
    "G = nx.DiGraph() \n",
    "\n",
    "for edge in edges:\n",
    "    G.add_edge(edge['srcNode'], edge['destNode'])\n",
    "\n",
    "print(G)"
   ]
  },
  {
   "cell_type": "code",
   "execution_count": 35,
   "metadata": {},
   "outputs": [],
   "source": [
    "import pygraphviz as gv\n",
    "\n",
    "trial = gv.AGraph(strict=True, overlap=False, splines='spline', levels=3)\n",
    "\n",
    "for node in G:\n",
    "    info = id_to_node[node]\n",
    "    if info['deviceLevel'] == 'access':\n",
    "        trial.add_node(node, shape='point', color='green')\n",
    "    elif info['deviceLevel'] == 'aggregation':\n",
    "        trial.add_node(node, shape='point', color='blue')\n",
    "    else:\n",
    "        trial.add_node(node, shape='point', color='red')\n",
    "\n",
    "for edge in G.edges():\n",
    "    if (str(edge[0]) in trial.nodes() and str(edge[1]) in trial.nodes()) and edge[0] != edge[1]:\n",
    "        trial.add_edge(*edge, penwidth=.2)\n",
    "\n",
    "trial.layout('sfdp')\n",
    "trial.draw('test.pdf')"
   ]
  }
 ],
 "metadata": {
  "kernelspec": {
   "display_name": "zte",
   "language": "python",
   "name": "python3"
  },
  "language_info": {
   "codemirror_mode": {
    "name": "ipython",
    "version": 3
   },
   "file_extension": ".py",
   "mimetype": "text/x-python",
   "name": "python",
   "nbconvert_exporter": "python",
   "pygments_lexer": "ipython3",
   "version": "3.12.1"
  }
 },
 "nbformat": 4,
 "nbformat_minor": 2
}
