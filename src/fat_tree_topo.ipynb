{
 "cells": [
  {
   "cell_type": "code",
   "execution_count": 105,
   "metadata": {},
   "outputs": [
    {
     "name": "stdout",
     "output_type": "stream",
     "text": [
      "core: 1024 agg: 2048 access: 2048\n"
     ]
    }
   ],
   "source": [
    "import math\n",
    "import random\n",
    "from copy import copy\n",
    "\n",
    "K = 64\n",
    "BANDWIDTH = 5_000_000_000\n",
    "\n",
    "nodeList, edgeList = [], []\n",
    "\n",
    "core = int(math.pow(K, 2) // 4)\n",
    "agg = int(math.pow(K, 2) // 2)\n",
    "access = int(math.pow(K, 2) // 2)\n",
    "\n",
    "print(f\"core: {core} agg: {agg} access: {access}\")"
   ]
  },
  {
   "cell_type": "code",
   "execution_count": 106,
   "metadata": {},
   "outputs": [
    {
     "name": "stdout",
     "output_type": "stream",
     "text": [
      "1024 2048 2048\n"
     ]
    }
   ],
   "source": [
    "# ASSIGN IDS TO CORE, AGGREGATION AND ACCESS SWITCHES\n",
    "\n",
    "core_switches, agg_switches, access_switches = [], [], []\n",
    "\n",
    "for id_core in range(0, core):\n",
    "    core_switches.append({\n",
    "        \"id\": id_core,\n",
    "        \"portList\": [],\n",
    "        \"deviceLevel\": \"core\",\n",
    "    })\n",
    "\n",
    "for id_agg in range(id_core+1, id_core+agg+1):\n",
    "    agg_switches.append({\n",
    "        \"id\": id_agg,\n",
    "        \"portList\": [],\n",
    "        \"deviceLevel\": \"aggregation\",\n",
    "    })\n",
    "\n",
    "for id_access in range(id_agg+1, id_agg+access+1):\n",
    "    access_switches.append({\n",
    "        \"id\": id_access,\n",
    "        \"portList\": [],\n",
    "        \"deviceLevel\": \"access\",\n",
    "    })\n",
    "\n",
    "nodeList = core_switches + agg_switches + access_switches\n",
    "\n",
    "print(len(core_switches), len(agg_switches), len(access_switches))"
   ]
  },
  {
   "cell_type": "code",
   "execution_count": 107,
   "metadata": {},
   "outputs": [],
   "source": [
    "# add port information to node dict\n",
    "\n",
    "for node in nodeList:\n",
    "    for port_id in range(K):\n",
    "        node['portList'].append({\n",
    "            'id': f'port{port_id}',\n",
    "            'bw': BANDWIDTH,\n",
    "        })\n",
    "        "
   ]
  },
  {
   "cell_type": "code",
   "execution_count": 108,
   "metadata": {},
   "outputs": [],
   "source": [
    "#   UTILITY FUNCTIONS FOR TOPO GENERATION\n",
    "\n",
    "def sample_with_removal(ar, k):\n",
    "    s = random.sample(ar, k)\n",
    "    ar = [x for x in ar if x not in s]\n",
    "    return ar, s\n",
    "\n",
    "def get_next_unused_port(node):\n",
    "    for port in node['portList']:\n",
    "        if port['conn'] is None:\n",
    "            return port['id']\n",
    "    return None\n",
    "\n",
    "def split_list(lst, n):\n",
    "    \"\"\"Split a list into n equal-sized parts.\"\"\"\n",
    "    if n <= 0:\n",
    "        raise ValueError(\"Number of parts must be greater than 0\")\n",
    "    elif n > len(lst):\n",
    "        raise ValueError(\"Number of parts cannot exceed the length of the list\")\n",
    "\n",
    "    # Calculate the size of each part\n",
    "    part_size = len(lst) // n\n",
    "    # Calculate the remainder to distribute if the list size is not divisible evenly\n",
    "    remainder = len(lst) % n\n",
    "\n",
    "    # Generate the parts\n",
    "    parts = [lst[i * part_size + min(i, remainder):(i + 1) * part_size + min(i + 1, remainder)] for i in range(n)]\n",
    "\n",
    "    return parts\n"
   ]
  },
  {
   "cell_type": "code",
   "execution_count": 109,
   "metadata": {},
   "outputs": [
    {
     "data": {
      "text/plain": [
       "(5120, 262144)"
      ]
     },
     "execution_count": 109,
     "metadata": {},
     "output_type": "execute_result"
    }
   ],
   "source": [
    "pod_access, pod_agg = copy(access_switches), copy(agg_switches)\n",
    "\n",
    "pods = []\n",
    "\n",
    "for pod_id in range(K):\n",
    "    # radomly assign access and aggregation nodes into pods \n",
    "    pod_access, acc_nodes = sample_with_removal(pod_access, K//2)\n",
    "    pod_agg, agg_nodes = sample_with_removal(pod_agg, K//2)\n",
    "    \n",
    "    pods.append({\n",
    "        \"id\": pod_id,\n",
    "        \"agg_nodes\": agg_nodes,\n",
    "        \"acc_nodes\": acc_nodes\n",
    "    })\n",
    "\n",
    "    # each aggregation node will connect to 2 random core nodes\n",
    "    core_conn_port_id = pod_id # on the core switch the connection will happen on the port for the respectivde pod\n",
    "\n",
    "    '''\n",
    "        Example: \n",
    "            pods [a,b] [c d] [e f] [g h] # ignoring access siwtches in the 2 pods\n",
    "            coreswitchs [A B C D]\n",
    "\n",
    "            connections: node:port\n",
    "                a:0 -> A:0 \n",
    "                a:1 -> B:0\n",
    "                b:0 -> C:0\n",
    "                b:1 -> D:0\n",
    "\n",
    "                c:0 -> A:1\n",
    "                c:1 -> B:1\n",
    "                d:0 -> C:1\n",
    "                d:1 -> D:1\n",
    "    '''\n",
    "\n",
    "    core_switches_per_agg_node = split_list(core_switches, len(agg_nodes))\n",
    "\n",
    "    for idx, (agg_node, core_conns) in enumerate(zip(agg_nodes, core_switches_per_agg_node)):\n",
    "        # print(idx, agg_node['id'], [x['id'] for x in core_conns])\n",
    "        \n",
    "        for core_switch in core_conns:\n",
    "            src, dest = agg_node['id'], core_switch['id']\n",
    "            src_p = agg_node['portList'][idx]['id']\n",
    "            dest_p = core_switch['portList'][core_conn_port_id]['id']\n",
    "\n",
    "            edge = {\n",
    "                \"srcNode\": src,\n",
    "                \"destNode\": dest,\n",
    "                \"srcPort\": src_p,\n",
    "                \"destPort\": dest_p\n",
    "            }\n",
    "\n",
    "            reverse = {\n",
    "                \"srcNode\": dest,\n",
    "                \"destNode\": src,\n",
    "                \"srcPort\": dest_p,\n",
    "                \"destPort\": src_p\n",
    "            }\n",
    "\n",
    "            edgeList.append(edge)\n",
    "            edgeList.append(reverse)\n",
    "\n",
    "        '''\n",
    "            The intra pod connections are simpler:\n",
    "                The aggragation nodes use ports starting from K//2 to K (0->k//2 are used for connections to core switches)\n",
    "                The access switches use ports from 0->K//2 and reserve ports from K//2->K for connecting to devices\n",
    "        '''\n",
    "        \n",
    "        for idx, access_switch in enumerate(acc_nodes):\n",
    "            agg_offset = K // 2\n",
    "\n",
    "            src, dest = agg_node['id'], access_switch['id']\n",
    "\n",
    "            src_p = agg_node['portList'][idx+agg_offset]['id']\n",
    "            dest_p = access_switch['portList'][idx]['id']\n",
    "\n",
    "            edge = {\n",
    "                \"srcNode\": src,\n",
    "                \"destNode\": dest,\n",
    "                \"srcPort\": src_p,\n",
    "                \"destPort\": dest_p\n",
    "            }\n",
    "\n",
    "            reverse = {\n",
    "                \"srcNode\": dest,\n",
    "                \"destNode\": src,\n",
    "                \"srcPort\": dest_p,\n",
    "                \"destPort\": src_p\n",
    "            }\n",
    "\n",
    "            edgeList.append(edge)\n",
    "            edgeList.append(reverse)\n",
    "            \n",
    "len(nodeList), len(edgeList)"
   ]
  },
  {
   "cell_type": "code",
   "execution_count": 103,
   "metadata": {},
   "outputs": [],
   "source": [
    "import json\n",
    "\n",
    "with open(f\"data/fat_tree_{K}_{BANDWIDTH}.json\", 'w+') as f:\n",
    "    json.dump(\n",
    "        {'nodeList': nodeList, 'edgeList': edgeList},\n",
    "        f,\n",
    "        indent=4\n",
    "    )"
   ]
  }
 ],
 "metadata": {
  "kernelspec": {
   "display_name": "zte",
   "language": "python",
   "name": "python3"
  },
  "language_info": {
   "codemirror_mode": {
    "name": "ipython",
    "version": 3
   },
   "file_extension": ".py",
   "mimetype": "text/x-python",
   "name": "python",
   "nbconvert_exporter": "python",
   "pygments_lexer": "ipython3",
   "version": "3.12.1"
  }
 },
 "nbformat": 4,
 "nbformat_minor": 2
}
